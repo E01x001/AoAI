{
  "nbformat": 4,
  "nbformat_minor": 0,
  "metadata": {
    "colab": {
      "provenance": [],
      "authorship_tag": "ABX9TyOgMdVWAKrchigV6y13bE9A",
      "include_colab_link": true
    },
    "kernelspec": {
      "name": "python3",
      "display_name": "Python 3"
    },
    "language_info": {
      "name": "python"
    }
  },
  "cells": [
    {
      "cell_type": "markdown",
      "metadata": {
        "id": "view-in-github",
        "colab_type": "text"
      },
      "source": [
        "<a href=\"https://colab.research.google.com/github/E01x001/AoAI/blob/main/HealthCare_AI.ipynb\" target=\"_parent\"><img src=\"https://colab.research.google.com/assets/colab-badge.svg\" alt=\"Open In Colab\"/></a>"
      ]
    },
    {
      "cell_type": "code",
      "execution_count": 1,
      "metadata": {
        "colab": {
          "base_uri": "https://localhost:8080/"
        },
        "id": "RrBR56Miy-Nn",
        "outputId": "753af965-9c0a-4725-da33-bb79a49d5c23"
      },
      "outputs": [
        {
          "output_type": "stream",
          "name": "stdout",
          "text": [
            "Requirement already satisfied: flask in /usr/local/lib/python3.11/dist-packages (3.1.0)\n",
            "Collecting flask-cors\n",
            "  Downloading flask_cors-5.0.1-py3-none-any.whl.metadata (961 bytes)\n",
            "Collecting pyngrok\n",
            "  Downloading pyngrok-7.2.3-py3-none-any.whl.metadata (8.7 kB)\n",
            "Requirement already satisfied: Werkzeug>=3.1 in /usr/local/lib/python3.11/dist-packages (from flask) (3.1.3)\n",
            "Requirement already satisfied: Jinja2>=3.1.2 in /usr/local/lib/python3.11/dist-packages (from flask) (3.1.6)\n",
            "Requirement already satisfied: itsdangerous>=2.2 in /usr/local/lib/python3.11/dist-packages (from flask) (2.2.0)\n",
            "Requirement already satisfied: click>=8.1.3 in /usr/local/lib/python3.11/dist-packages (from flask) (8.1.8)\n",
            "Requirement already satisfied: blinker>=1.9 in /usr/local/lib/python3.11/dist-packages (from flask) (1.9.0)\n",
            "Requirement already satisfied: PyYAML>=5.1 in /usr/local/lib/python3.11/dist-packages (from pyngrok) (6.0.2)\n",
            "Requirement already satisfied: MarkupSafe>=2.0 in /usr/local/lib/python3.11/dist-packages (from Jinja2>=3.1.2->flask) (3.0.2)\n",
            "Downloading flask_cors-5.0.1-py3-none-any.whl (11 kB)\n",
            "Downloading pyngrok-7.2.3-py3-none-any.whl (23 kB)\n",
            "Installing collected packages: pyngrok, flask-cors\n",
            "Successfully installed flask-cors-5.0.1 pyngrok-7.2.3\n"
          ]
        },
        {
          "output_type": "execute_result",
          "data": {
            "text/plain": [
              "<flask_cors.extension.CORS at 0x7b3e0a4dfc50>"
            ]
          },
          "metadata": {},
          "execution_count": 1
        }
      ],
      "source": [
        "from flask import Flask, request, jsonify\n",
        "\n",
        "app = Flask(__name__)\n",
        "\n",
        "# 부위별 스트레칭 방법 정의\n",
        "stretching_info = {\n",
        "    \"neck\": [\n",
        "        \"목을 천천히 좌우로 돌려주세요. (15초씩)\",\n",
        "        \"머리를 오른쪽으로 기울여 귀가 어깨에 닿도록 하세요. (15초 후 반대쪽)\",\n",
        "        \"턱을 가슴 쪽으로 당기며 목 뒤쪽을 늘려주세요. (15초 유지)\"\n",
        "    ],\n",
        "    \"shoulder\": [\n",
        "        \"양쪽 어깨를 위아래로 천천히 움직이며 스트레칭하세요. (15초)\",\n",
        "        \"팔을 앞뒤로 크게 돌려주세요. (15초씩)\",\n",
        "        \"양팔을 등 뒤에서 맞잡고 가슴을 펴 주세요. (15초 유지)\"\n",
        "    ]\n",
        "}\n",
        "\n",
        "@app.route(\"/stretch\", methods=[\"GET\"])\n",
        "def get_stretch():\n",
        "    part = request.args.get(\"part\", \"neck\")  # 기본값은 목 스트레칭\n",
        "    stretches = stretching_info.get(part.lower(), [\"해당 부위 스트레칭 정보가 없습니다.\"])\n",
        "\n",
        "    return jsonify({\"part\": part, \"stretches\": stretches})\n",
        "\n",
        "if __name__ == \"__main__\":\n",
        "    app.run(port=5000)  # 로컬에서 실행\n"
      ]
    },
    {
      "cell_type": "code",
      "source": [
        "import os\n",
        "from google.colab import userdata\n",
        "os.environ[\"NGROK_AUTH_TOKEN\"] = userdata.get('NGROK_AUTH_TOKEN')"
      ],
      "metadata": {
        "id": "wtc5hgAF37KV"
      },
      "execution_count": 2,
      "outputs": []
    },
    {
      "cell_type": "code",
      "source": [
        "# 사용자별 데이터 저장\n",
        "user_data = {}\n",
        "\n",
        "# 📌 1. 사용자 데이터 저장 (아픈 부위 & 알림 빈도)\n",
        "@app.route('/set_user_data', methods=['POST'])\n",
        "def set_user_data():\n",
        "    data = request.json\n",
        "    user_id = data.get(\"user_id\")\n",
        "    body_part = data.get(\"body_part\")\n",
        "    frequency = data.get(\"frequency\")  # 알림 간격 (분 단위)\n",
        "\n",
        "    if user_id not in user_data:\n",
        "        user_data[user_id] = {}\n",
        "\n",
        "    user_data[user_id][\"body_part\"] = body_part\n",
        "    user_data[user_id][\"frequency\"] = frequency\n",
        "    user_data[user_id][\"last_check_date\"] = str(datetime.today().date())  # 최근 상태 체크 날짜\n",
        "\n",
        "    return jsonify({\"message\": \"사용자 데이터 저장 완료!\", \"data\": user_data[user_id]})\n",
        "\n",
        "# 📌 2. 사용자 데이터 조회\n",
        "@app.route('/get_user_data', methods=['GET'])\n",
        "def get_user_data():\n",
        "    user_id = request.args.get(\"user_id\")\n",
        "    return jsonify(user_data.get(user_id, \"사용자 데이터 없음\"))\n",
        "\n",
        "# 📌 3. 3~5일 간격으로 상태 체크 (자동 메시지 전송)\n",
        "def check_user_status():\n",
        "    while True:\n",
        "        today = datetime.today().date()\n",
        "\n",
        "        for user_id, info in user_data.items():\n",
        "            last_check = datetime.strptime(info[\"last_check_date\"], \"%Y-%m-%d\").date()\n",
        "            days_since_last_check = (today - last_check).days\n",
        "\n",
        "            if days_since_last_check >= 3:  # 3일 이상 경과 시 메시지 전송\n",
        "                print(f\"✅ 사용자 {user_id}에게 상태 체크 메시지를 전송합니다!\")\n",
        "                message = f\"{info['body_part']} 부위가 여전히 아픈가요?\\n1️⃣ 여전히 아파요\\n2️⃣ 괜찮아졌어요\"\n",
        "                send_kakao_message(user_id, message)\n",
        "                user_data[user_id][\"last_check_date\"] = str(today)\n",
        "\n",
        "        time.sleep(86400)  # 하루에 한 번 실행 (86400초)"
      ],
      "metadata": {
        "id": "O77Q43wn1ymU"
      },
      "execution_count": 3,
      "outputs": []
    },
    {
      "cell_type": "code",
      "source": [
        "# # 📌 4. 카카오톡 메시지 전송 함수 (API 연동)\n",
        "# def send_kakao_message(user_id, message):\n",
        "#     kakao_token = \"YOUR_KAKAO_ACCESS_TOKEN\"  # 카카오 API 토큰 입력\n",
        "#     url = \"https://kapi.kakao.com/v2/api/talk/memo/default/send\"\n",
        "#     headers = {\"Authorization\": f\"Bearer {kakao_token}\"}\n",
        "#     data = {\"template_object\": json.dumps({\"object_type\": \"text\", \"text\": message, \"link\": {}})}\n",
        "\n",
        "#     response = requests.post(url, headers=headers, data=data)\n",
        "#     print(f\"카카오톡 메시지 전송 결과: {response.json()}\")\n"
      ],
      "metadata": {
        "id": "sYBCrwkB119C"
      },
      "execution_count": null,
      "outputs": []
    },
    {
      "cell_type": "code",
      "source": [
        "# 📌 5. 상태 업데이트 (사용자가 '괜찮아졌어요' or '여전히 아파요' 선택)\n",
        "@app.route('/update_status', methods=['POST'])\n",
        "def update_status():\n",
        "    data = request.json\n",
        "    user_id = data.get(\"user_id\")\n",
        "    status = data.get(\"status\")  # \"ongoing\" (여전히 아픔) or \"resolved\" (괜찮아짐)\n",
        "\n",
        "    if user_id in user_data:\n",
        "        user_data[user_id][\"status\"] = status\n",
        "\n",
        "        if status == \"resolved\":\n",
        "            # 스트레칭 부위 변경 (목 → 어깨 → 허리 순환)\n",
        "            body_part_order = [\"neck\", \"shoulder\", \"back\", \"legs\"]\n",
        "            current_part = user_data[user_id][\"body_part\"]\n",
        "            new_part = body_part_order[(body_part_order.index(current_part) + 1) % len(body_part_order)]\n",
        "            user_data[user_id][\"body_part\"] = new_part\n",
        "            return jsonify({\"message\": \"스트레칭 부위 업데이트 완료!\", \"new_body_part\": new_part})\n",
        "        else:\n",
        "            return jsonify({\"message\": \"기존 스트레칭 유지. 추가 스트레칭을 추천합니다!\"})\n",
        "\n",
        "    return jsonify({\"error\": \"사용자 정보 없음\"})"
      ],
      "metadata": {
        "id": "o7PR6icr15Xb"
      },
      "execution_count": 4,
      "outputs": []
    },
    {
      "cell_type": "code",
      "source": [
        "from pyngrok import ngrok\n",
        "# 📌 6. ngrok을 사용하여 API 외부 접근 가능하게 만들기\n",
        "def start_server_with_ngrok():\n",
        "    ngrok.set_auth_token(\"NGROK_AUTH_TOKEN\")  # ngrok 인증 토큰 입력\n",
        "    public_url = ngrok.connect(5000).public_url\n",
        "    print(f\"ngrok 터널이 생성되었습니다: {public_url}\")\n",
        "    print(f\"API 문서는 {public_url}/docs 에서 확인 가능\")\n",
        "\n",
        "    app.run(port=5000)\n"
      ],
      "metadata": {
        "id": "IijVdYGU18b6"
      },
      "execution_count": 9,
      "outputs": []
    },
    {
      "cell_type": "code",
      "source": [
        "# 📌 7. 백그라운드에서 상태 체크 스케줄러 실행\n",
        "thread = threading.Thread(target=check_user_status)\n",
        "thread.start()"
      ],
      "metadata": {
        "id": "43b1Izjn6FYv"
      },
      "execution_count": 7,
      "outputs": []
    },
    {
      "cell_type": "code",
      "source": [
        "# 📌 8. 서버 실행\n",
        "start_server_with_ngrok()"
      ],
      "metadata": {
        "id": "ntSWNjqd6Eet",
        "outputId": "c1835627-cac7-4d3d-c305-08a1e6d7276b",
        "colab": {
          "base_uri": "https://localhost:8080/"
        }
      },
      "execution_count": null,
      "outputs": [
        {
          "output_type": "stream",
          "name": "stdout",
          "text": [
            "ngrok 터널이 생성되었습니다: https://635c-34-75-14-140.ngrok-free.app\n",
            "API 문서는 https://635c-34-75-14-140.ngrok-free.app/docs 에서 확인 가능\n",
            " * Serving Flask app 'HealthCare'\n",
            " * Debug mode: off\n"
          ]
        },
        {
          "output_type": "stream",
          "name": "stderr",
          "text": [
            "INFO:werkzeug:\u001b[31m\u001b[1mWARNING: This is a development server. Do not use it in a production deployment. Use a production WSGI server instead.\u001b[0m\n",
            " * Running on http://127.0.0.1:5000\n",
            "INFO:werkzeug:\u001b[33mPress CTRL+C to quit\u001b[0m\n",
            "INFO:werkzeug:127.0.0.1 - - [14/Mar/2025 09:14:26] \"\u001b[33mPOST / HTTP/1.1\u001b[0m\" 404 -\n",
            "INFO:werkzeug:127.0.0.1 - - [14/Mar/2025 09:26:47] \"\u001b[33mPOST / HTTP/1.1\u001b[0m\" 404 -\n",
            "INFO:werkzeug:127.0.0.1 - - [14/Mar/2025 09:27:11] \"\u001b[33mGET / HTTP/1.1\u001b[0m\" 404 -\n",
            "INFO:werkzeug:127.0.0.1 - - [14/Mar/2025 09:27:12] \"\u001b[33mGET /favicon.ico HTTP/1.1\u001b[0m\" 404 -\n"
          ]
        }
      ]
    }
  ]
}