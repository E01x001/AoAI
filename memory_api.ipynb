{
  "nbformat": 4,
  "nbformat_minor": 0,
  "metadata": {
    "colab": {
      "provenance": []
    },
    "kernelspec": {
      "name": "python3",
      "display_name": "Python 3"
    },
    "language_info": {
      "name": "python"
    }
  },
  "cells": [
    {
      "cell_type": "code",
      "execution_count": 1,
      "metadata": {
        "colab": {
          "base_uri": "https://localhost:8080/"
        },
        "id": "7AHjwjCmeOjy",
        "outputId": "4041ae66-d921-4fd4-cf14-ace5e57c65e9"
      },
      "outputs": [
        {
          "output_type": "stream",
          "name": "stdout",
          "text": [
            "Collecting fastapi\n",
            "  Downloading fastapi-0.115.11-py3-none-any.whl.metadata (27 kB)\n",
            "Collecting uvicorn\n",
            "  Downloading uvicorn-0.34.0-py3-none-any.whl.metadata (6.5 kB)\n",
            "Collecting pyngrok\n",
            "  Downloading pyngrok-7.2.3-py3-none-any.whl.metadata (8.7 kB)\n",
            "Collecting starlette<0.47.0,>=0.40.0 (from fastapi)\n",
            "  Downloading starlette-0.46.1-py3-none-any.whl.metadata (6.2 kB)\n",
            "Requirement already satisfied: pydantic!=1.8,!=1.8.1,!=2.0.0,!=2.0.1,!=2.1.0,<3.0.0,>=1.7.4 in /usr/local/lib/python3.11/dist-packages (from fastapi) (2.10.6)\n",
            "Requirement already satisfied: typing-extensions>=4.8.0 in /usr/local/lib/python3.11/dist-packages (from fastapi) (4.12.2)\n",
            "Requirement already satisfied: click>=7.0 in /usr/local/lib/python3.11/dist-packages (from uvicorn) (8.1.8)\n",
            "Requirement already satisfied: h11>=0.8 in /usr/local/lib/python3.11/dist-packages (from uvicorn) (0.14.0)\n",
            "Requirement already satisfied: PyYAML>=5.1 in /usr/local/lib/python3.11/dist-packages (from pyngrok) (6.0.2)\n",
            "Requirement already satisfied: annotated-types>=0.6.0 in /usr/local/lib/python3.11/dist-packages (from pydantic!=1.8,!=1.8.1,!=2.0.0,!=2.0.1,!=2.1.0,<3.0.0,>=1.7.4->fastapi) (0.7.0)\n",
            "Requirement already satisfied: pydantic-core==2.27.2 in /usr/local/lib/python3.11/dist-packages (from pydantic!=1.8,!=1.8.1,!=2.0.0,!=2.0.1,!=2.1.0,<3.0.0,>=1.7.4->fastapi) (2.27.2)\n",
            "Requirement already satisfied: anyio<5,>=3.6.2 in /usr/local/lib/python3.11/dist-packages (from starlette<0.47.0,>=0.40.0->fastapi) (3.7.1)\n",
            "Requirement already satisfied: idna>=2.8 in /usr/local/lib/python3.11/dist-packages (from anyio<5,>=3.6.2->starlette<0.47.0,>=0.40.0->fastapi) (3.10)\n",
            "Requirement already satisfied: sniffio>=1.1 in /usr/local/lib/python3.11/dist-packages (from anyio<5,>=3.6.2->starlette<0.47.0,>=0.40.0->fastapi) (1.3.1)\n",
            "Downloading fastapi-0.115.11-py3-none-any.whl (94 kB)\n",
            "\u001b[2K   \u001b[90m━━━━━━━━━━━━━━━━━━━━━━━━━━━━━━━━━━━━━━━━\u001b[0m \u001b[32m94.9/94.9 kB\u001b[0m \u001b[31m1.8 MB/s\u001b[0m eta \u001b[36m0:00:00\u001b[0m\n",
            "\u001b[?25hDownloading uvicorn-0.34.0-py3-none-any.whl (62 kB)\n",
            "\u001b[2K   \u001b[90m━━━━━━━━━━━━━━━━━━━━━━━━━━━━━━━━━━━━━━━━\u001b[0m \u001b[32m62.3/62.3 kB\u001b[0m \u001b[31m1.7 MB/s\u001b[0m eta \u001b[36m0:00:00\u001b[0m\n",
            "\u001b[?25hDownloading pyngrok-7.2.3-py3-none-any.whl (23 kB)\n",
            "Downloading starlette-0.46.1-py3-none-any.whl (71 kB)\n",
            "\u001b[2K   \u001b[90m━━━━━━━━━━━━━━━━━━━━━━━━━━━━━━━━━━━━━━━━\u001b[0m \u001b[32m72.0/72.0 kB\u001b[0m \u001b[31m4.7 MB/s\u001b[0m eta \u001b[36m0:00:00\u001b[0m\n",
            "\u001b[?25hInstalling collected packages: uvicorn, pyngrok, starlette, fastapi\n",
            "Successfully installed fastapi-0.115.11 pyngrok-7.2.3 starlette-0.46.1 uvicorn-0.34.0\n"
          ]
        }
      ],
      "source": [
        "# 필요한 라이브러리 설치\n",
        "!pip install fastapi uvicorn pyngrok"
      ]
    },
    {
      "cell_type": "code",
      "source": [
        "from google.colab import userdata\n",
        "userdata.set(\"NGROK_AUTH_TOKEN\", \"2u8Efktyf2mv4gNGtlJvoojyImt_vD1EfecxtpcHgpaY6bRn\")\n"
      ],
      "metadata": {
        "id": "OKNOoPELUWWv"
      },
      "execution_count": null,
      "outputs": []
    },
    {
      "cell_type": "code",
      "source": [
        "import os\n",
        "from google.colab import userdata\n",
        "\n",
        "NGROK_AUTH_TOKEN = userdata.get(\"NGROK_AUTH_TOKEN\")  # 저장된 키 가져오기\n",
        "os.environ[\"NGROK_AUTH_TOKEN\"] = NGROK_AUTH_TOKEN\n"
      ],
      "metadata": {
        "id": "dNQxoiU3hWaa",
        "outputId": "dbd757d6-5c8a-4e41-9431-3f99fa5e4995",
        "colab": {
          "base_uri": "https://localhost:8080/",
          "height": 312
        }
      },
      "execution_count": 5,
      "outputs": [
        {
          "output_type": "error",
          "ename": "SecretNotFoundError",
          "evalue": "Secret 2u8Efktyf2mv4gNGtlJvoojyImt_vD1EfecxtpcHgpaY6bRn does not exist.",
          "traceback": [
            "\u001b[0;31m---------------------------------------------------------------------------\u001b[0m",
            "\u001b[0;31mSecretNotFoundError\u001b[0m                       Traceback (most recent call last)",
            "\u001b[0;32m<ipython-input-5-0f4a643a7725>\u001b[0m in \u001b[0;36m<cell line: 0>\u001b[0;34m()\u001b[0m\n\u001b[1;32m      1\u001b[0m \u001b[0;32mimport\u001b[0m \u001b[0mos\u001b[0m\u001b[0;34m\u001b[0m\u001b[0;34m\u001b[0m\u001b[0m\n\u001b[1;32m      2\u001b[0m \u001b[0;32mfrom\u001b[0m \u001b[0mgoogle\u001b[0m\u001b[0;34m.\u001b[0m\u001b[0mcolab\u001b[0m \u001b[0;32mimport\u001b[0m \u001b[0muserdata\u001b[0m\u001b[0;34m\u001b[0m\u001b[0;34m\u001b[0m\u001b[0m\n\u001b[0;32m----> 3\u001b[0;31m \u001b[0mos\u001b[0m\u001b[0;34m.\u001b[0m\u001b[0menviron\u001b[0m\u001b[0;34m[\u001b[0m\u001b[0mNGROK_AUTH_TOKEN\u001b[0m\u001b[0;34m]\u001b[0m \u001b[0;34m=\u001b[0m \u001b[0muserdata\u001b[0m\u001b[0;34m.\u001b[0m\u001b[0mget\u001b[0m\u001b[0;34m(\u001b[0m\u001b[0mNGROK_AUTH_TOKEN\u001b[0m\u001b[0;34m)\u001b[0m\u001b[0;34m\u001b[0m\u001b[0;34m\u001b[0m\u001b[0m\n\u001b[0m",
            "\u001b[0;32m/usr/local/lib/python3.11/dist-packages/google/colab/userdata.py\u001b[0m in \u001b[0;36mget\u001b[0;34m(key)\u001b[0m\n\u001b[1;32m     66\u001b[0m     \u001b[0;32mraise\u001b[0m \u001b[0mTimeoutException\u001b[0m\u001b[0;34m(\u001b[0m\u001b[0mkey\u001b[0m\u001b[0;34m)\u001b[0m\u001b[0;34m\u001b[0m\u001b[0;34m\u001b[0m\u001b[0m\n\u001b[1;32m     67\u001b[0m   \u001b[0;32mif\u001b[0m \u001b[0;32mnot\u001b[0m \u001b[0mresp\u001b[0m\u001b[0;34m.\u001b[0m\u001b[0mget\u001b[0m\u001b[0;34m(\u001b[0m\u001b[0;34m'exists'\u001b[0m\u001b[0;34m,\u001b[0m \u001b[0;32mFalse\u001b[0m\u001b[0;34m)\u001b[0m\u001b[0;34m:\u001b[0m\u001b[0;34m\u001b[0m\u001b[0;34m\u001b[0m\u001b[0m\n\u001b[0;32m---> 68\u001b[0;31m     \u001b[0;32mraise\u001b[0m \u001b[0mSecretNotFoundError\u001b[0m\u001b[0;34m(\u001b[0m\u001b[0mkey\u001b[0m\u001b[0;34m)\u001b[0m\u001b[0;34m\u001b[0m\u001b[0;34m\u001b[0m\u001b[0m\n\u001b[0m\u001b[1;32m     69\u001b[0m   \u001b[0;32mif\u001b[0m \u001b[0;32mnot\u001b[0m \u001b[0mresp\u001b[0m\u001b[0;34m.\u001b[0m\u001b[0mget\u001b[0m\u001b[0;34m(\u001b[0m\u001b[0;34m'access'\u001b[0m\u001b[0;34m,\u001b[0m \u001b[0;32mFalse\u001b[0m\u001b[0;34m)\u001b[0m\u001b[0;34m:\u001b[0m\u001b[0;34m\u001b[0m\u001b[0;34m\u001b[0m\u001b[0m\n\u001b[1;32m     70\u001b[0m     \u001b[0;32mraise\u001b[0m \u001b[0mNotebookAccessError\u001b[0m\u001b[0;34m(\u001b[0m\u001b[0mkey\u001b[0m\u001b[0;34m)\u001b[0m\u001b[0;34m\u001b[0m\u001b[0;34m\u001b[0m\u001b[0m\n",
            "\u001b[0;31mSecretNotFoundError\u001b[0m: Secret 2u8Efktyf2mv4gNGtlJvoojyImt_vD1EfecxtpcHgpaY6bRn does not exist."
          ]
        }
      ]
    },
    {
      "cell_type": "code",
      "source": [
        "# simple_memory_api.py\n",
        "from fastapi import FastAPI, Request\n",
        "from datetime import datetime\n",
        "import uvicorn\n",
        "import nest_asyncio\n",
        "\n",
        "\n",
        "# nest_asyncio 적용 (Jupyter/Colab에서 기존 이벤트 루프에 중첩 이벤트 루프 허용)\n",
        "nest_asyncio.apply()\n",
        "\n",
        "# FastAPI 앱 생성\n",
        "app = FastAPI(title=\"Memory API\")\n",
        "\n",
        "# 메모리 데이터를 저장할 전역 변수\n",
        "memory_data = {}\n",
        "\n",
        "# 사용자 메모리 조회 (모든 메모리 항목을 한번에 반환)\n",
        "@app.get(\"/memory/{user_id}\")\n",
        "async def get_user_memory(user_id: str):\n",
        "    if user_id not in memory_data:\n",
        "        memory_data[user_id] = {}\n",
        "    return memory_data[user_id]\n",
        "\n",
        "# 메모리 저장 (text/plain 형식으로 데이터 받기)\n",
        "@app.post(\"/memory/{user_id}\")\n",
        "async def save_memory(user_id: str, request: Request):\n",
        "    # 사용자 데이터가 없으면 새로 생성\n",
        "    if user_id not in memory_data:\n",
        "        memory_data[user_id] = {}\n",
        "\n",
        "    # 요청 본문을 문자열로 읽기\n",
        "    text_data = await request.body()\n",
        "    value = text_data.decode(\"utf-8\")\n",
        "\n",
        "    # 현재 시간을 키로 사용하여 메모리에 저장\n",
        "    key = datetime.now().isoformat()\n",
        "\n",
        "    memory_data[user_id][key] = value\n",
        "\n",
        "    return {\"message\": \"정보가 저장되었습니다\", \"data\": memory_data[user_id][key]}\n",
        "\n",
        "# 전체 메모리 삭제\n",
        "@app.delete(\"/memory/{user_id}\")\n",
        "async def clear_memory(user_id: str):\n",
        "    if user_id in memory_data:\n",
        "        deleted_count = len(memory_data[user_id])\n",
        "        memory_data[user_id] = {}\n",
        "        return {\"message\": f\"{deleted_count}개의 메모리 항목이 삭제되었습니다\"}\n",
        "    return {\"message\": \"삭제할 메모리가 없습니다\"}\n",
        "\n",
        "# 메모리 검색 (값에 특정 문자열이 포함된 항목 찾기)\n",
        "@app.get(\"/memory/{user_id}/search/{query}\")\n",
        "async def search_memory(user_id: str, query: str):\n",
        "    if user_id not in memory_data:\n",
        "        return {\"results\": []}\n",
        "\n",
        "    results = []\n",
        "    for key, data in memory_data[user_id].items():\n",
        "        if query.lower() in data.lower():\n",
        "            results.append({\n",
        "                key: data\n",
        "            })\n",
        "\n",
        "    return {\"results\": results}"
      ],
      "metadata": {
        "id": "rEbg4Y7reXBj"
      },
      "execution_count": null,
      "outputs": []
    },
    {
      "cell_type": "code",
      "source": [
        "from pyngrok import ngrok\n",
        "\n",
        "# ngrok을 사용하여 외부에서 접근 가능한 URL 생성\n",
        "def start_server_with_ngrok():\n",
        "    # ngrok 인증 설정 (ngrok 계정이 있는 경우)\n",
        "    ngrok.set_auth_token(os.environ[\"NGROK_AUTH_TOKEN\"])\n",
        "\n",
        "    # ngrok 터널 생성 (Colab에서 사용할 포트 지정)\n",
        "    port = 8004\n",
        "    ngrok_tunnel = ngrok.connect(port)\n",
        "    public_url = ngrok_tunnel.public_url\n",
        "    print(f\"ngrok 터널이 생성되었습니다: {public_url}\")\n",
        "    print(f\"API 문서는 {public_url}/docs 에서 확인할 수 있습니다\")\n",
        "\n",
        "    # FastAPI 서버 시작 (non-blocking)\n",
        "    config = uvicorn.Config(app, host=\"0.0.0.0\", port=port, log_level=\"info\")\n",
        "    server = uvicorn.Server(config)\n",
        "    try:\n",
        "        # run 대신 serve 메서드 사용\n",
        "        import asyncio\n",
        "        asyncio.get_event_loop().run_until_complete(server.serve())\n",
        "    except:\n",
        "        # 예외가 발생하면 async 방식으로 실행\n",
        "        server.run()"
      ],
      "metadata": {
        "id": "A5BjP8dmepxW"
      },
      "execution_count": null,
      "outputs": []
    },
    {
      "cell_type": "code",
      "source": [
        "start_server_with_ngrok()"
      ],
      "metadata": {
        "id": "H40drsIfh0Ht"
      },
      "execution_count": null,
      "outputs": []
    },
    {
      "cell_type": "code",
      "source": [],
      "metadata": {
        "id": "syFmPe2ceuXk"
      },
      "execution_count": null,
      "outputs": []
    }
  ]
}